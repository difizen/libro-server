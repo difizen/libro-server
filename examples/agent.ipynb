{
 "cells": [
  {
   "cell_type": "code",
   "execution_count": 24,
   "id": "e44ea3e8-79c0-43aa-8c04-461cd4350098",
   "metadata": {
    "execution": {
     "shell.execute_reply.end": "2024-05-25T05:55:03.561426Z",
     "shell.execute_reply.started": "2024-05-25T05:55:03.555182Z",
     "to_execute": "2024-05-25T05:55:03.575Z"
    },
    "libroFormatter": "formatter-string"
   },
   "outputs": [],
   "source": [
    "from langchain.agents import AgentExecutor,ZeroShotAgent,Tool, tool"
   ]
  },
  {
   "cell_type": "code",
   "execution_count": 25,
   "id": "08d8e87f-7b9b-4255-a243-f036022d11ba",
   "metadata": {
    "execution": {
     "shell.execute_reply.end": "2024-05-25T05:55:04.036942Z",
     "shell.execute_reply.started": "2024-05-25T05:55:03.891860Z",
     "to_execute": "2024-05-25T05:55:03.928Z"
    },
    "libroFormatter": "formatter-string"
   },
   "outputs": [],
   "source": [
    "from langchain_openai import ChatOpenAI\n",
    "llm = ChatOpenAI()"
   ]
  },
  {
   "cell_type": "code",
   "execution_count": 36,
   "id": "700b622e-17d7-4622-8e5f-e64a405185e5",
   "metadata": {
    "execution": {
     "shell.execute_reply.end": "2024-05-25T07:42:19.163221Z",
     "shell.execute_reply.started": "2024-05-25T07:42:19.157849Z",
     "to_execute": "2024-05-25T07:42:19.203Z"
    },
    "libroFormatter": "formatter-string"
   },
   "outputs": [],
   "source": [
    "from langchain.callbacks.base import BaseCallbackHandler\n",
    "\n",
    "class MyCustomHandler(BaseCallbackHandler):\n",
    "    def on_agent_action(\n",
    "        self, action, run_id, parent_run_id, **kwargs\n",
    "    ):\n",
    "        print(\"ON Agent action!\", action)\n",
    "        print(\"ON Agent action!\", run_id)\n",
    "        print(\"ON Agent action!\", parent_run_id)\n",
    "\n",
    "    def on_tool_start(self, serialized, input_str: str, **kwargs):\n",
    "        \"\"\"Run when tool starts running.\"\"\"\n",
    "        print(\"ON TOOL START!\", kwargs)\n",
    "\n",
    "    def on_tool_end(self, output: str, **kwargs):\n",
    "        \"\"\"Run when tool ends running.\"\"\"\n",
    "        print(\"ON TOOL END!\")"
   ]
  },
  {
   "cell_type": "code",
   "execution_count": 37,
   "id": "cfe12625-0f1f-4916-acb3-8ae47463709f",
   "metadata": {
    "execution": {
     "shell.execute_reply.end": "2024-05-25T07:42:24.577986Z",
     "shell.execute_reply.started": "2024-05-25T07:42:24.574080Z",
     "to_execute": "2024-05-25T07:42:24.598Z"
    },
    "libroFormatter": "formatter-string"
   },
   "outputs": [],
   "source": [
    "def answer_metaphysics(*args, callbacks, **kwargs) -> str:\n",
    "    \"\"\"能回答关于玄学的问题\"\"\"\n",
    "    print(args)\n",
    "    print(callbacks)\n",
    "    print(kwargs)\n",
    "    return \"玄学在东方文化中有着深厚的传统，被视为一种能够帮助人们理解宇宙和生命的智慧\""
   ]
  },
  {
   "cell_type": "code",
   "execution_count": 38,
   "id": "897e6d6e-7cbe-492a-946c-bc07fe4a635c",
   "metadata": {
    "execution": {
     "shell.execute_reply.end": "2024-05-25T07:42:24.975945Z",
     "shell.execute_reply.started": "2024-05-25T07:42:24.972059Z",
     "to_execute": "2024-05-25T07:42:25.001Z"
    },
    "libroFormatter": "formatter-string"
   },
   "outputs": [],
   "source": [
    "tools = [\n",
    "    Tool(\n",
    "        name=\"answer_metaphysics\",\n",
    "        func=answer_metaphysics,\n",
    "        description=\"能回答关于玄学的问题\",\n",
    "    ),\n",
    "]"
   ]
  },
  {
   "cell_type": "code",
   "execution_count": 39,
   "id": "ab6b0baf-7c8a-4ef9-9e01-26355430be18",
   "metadata": {
    "execution": {
     "shell.execute_reply.end": "2024-05-25T07:42:26.265529Z",
     "shell.execute_reply.started": "2024-05-25T07:42:26.261785Z",
     "to_execute": "2024-05-25T07:42:26.298Z"
    },
    "libroFormatter": "formatter-string"
   },
   "outputs": [],
   "source": [
    "agent_obj = ZeroShotAgent.from_llm_and_tools(llm,tools)"
   ]
  },
  {
   "cell_type": "code",
   "execution_count": 40,
   "id": "32a2262b-d923-4ceb-a14a-7687574d62b9",
   "metadata": {
    "execution": {
     "shell.execute_reply.end": "2024-05-25T07:42:39.612944Z",
     "shell.execute_reply.started": "2024-05-25T07:42:39.604526Z",
     "to_execute": "2024-05-25T07:42:39.650Z"
    },
    "libroFormatter": "formatter-string"
   },
   "outputs": [
    {
     "name": "stdout",
     "output_type": "stream",
     "text": [
      "cf6847f6-0df8-45ef-88d6-66041d393eff\n"
     ]
    },
    {
     "data": {
      "text/plain": [
       "dict_items([('run_id', UUID('cf6847f6-0df8-45ef-88d6-66041d393eff')), ('metadata', {'test': 'test'}), ('callbacks', [<__main__.MyCustomHandler object at 0x115ae7e20>])])"
      ]
     },
     "execution_count": 40,
     "metadata": {},
     "output_type": "execute_result"
    }
   ],
   "source": [
    "from langchain_core.runnables.config import RunnableConfig    \n",
    "import uuid\n",
    "run_id = uuid.uuid4()\n",
    "print(run_id)\n",
    "runconfig = RunnableConfig(\n",
    "    run_id=run_id,\n",
    "    metadata={\"test\":\"test\"},\n",
    "    callbacks=[MyCustomHandler()]\n",
    ")\n",
    "\n",
    "runconfig.items()"
   ]
  },
  {
   "cell_type": "code",
   "execution_count": 41,
   "id": "7b773148-86e4-4e8f-8cd8-c47f0fd9c682",
   "metadata": {
    "execution": {
     "shell.execute_reply.end": "2024-05-25T07:42:43.030901Z",
     "shell.execute_reply.started": "2024-05-25T07:42:43.026615Z",
     "to_execute": "2024-05-25T07:42:43.072Z"
    },
    "libroFormatter": "formatter-string"
   },
   "outputs": [],
   "source": [
    "agent = AgentExecutor.from_agent_and_tools(\n",
    "        agent=agent_obj,\n",
    "        tools=tools,\n",
    "        verbose=True\n",
    ")"
   ]
  },
  {
   "cell_type": "code",
   "execution_count": 42,
   "id": "7c87a13c-c485-48ec-bf35-a17556ddb90e",
   "metadata": {
    "execution": {
     "shell.execute_reply.end": "2024-05-25T07:42:47.867673Z",
     "shell.execute_reply.started": "2024-05-25T07:42:45.077181Z",
     "to_execute": "2024-05-25T07:42:45.121Z"
    },
    "libroFormatter": "formatter-string"
   },
   "outputs": [
    {
     "name": "stdout",
     "output_type": "stream",
     "text": [
      "\n",
      "\n",
      "\u001b[1m> Entering new AgentExecutor chain...\u001b[0m\n",
      "ON Agent action! tool='answer_metaphysics' tool_input='玄学是研究超自然、灵性和宇宙本质的学科。' log='我应该使用answer_metaphysics来回答这个问题\\nAction: answer_metaphysics\\nAction Input: 玄学是研究超自然、灵性和宇宙本质的学科。'\n",
      "ON Agent action! f863180c-5084-45c3-98c0-20f2a99dfcbd\n",
      "ON Agent action! None\n",
      "\u001b[32;1m\u001b[1;3m我应该使用answer_metaphysics来回答这个问题\n",
      "Action: answer_metaphysics\n",
      "Action Input: 玄学是研究超自然、灵性和宇宙本质的学科。\u001b[0mON TOOL START! {'run_id': UUID('3cc86d74-56ee-4ac0-9d47-59cd85b2d601'), 'parent_run_id': UUID('f863180c-5084-45c3-98c0-20f2a99dfcbd'), 'tags': [], 'metadata': {'test': 'test'}, 'inputs': None, 'color': 'green', 'name': None, 'llm_prefix': 'Thought:', 'observation_prefix': 'Observation: '}\n",
      "('玄学是研究超自然、灵性和宇宙本质的学科。',)\n",
      "<langchain_core.callbacks.manager.CallbackManager object at 0x115ae77c0>\n",
      "{}\n",
      "ON TOOL END!\n",
      "\n",
      "Observation: \u001b[36;1m\u001b[1;3m玄学在东方文化中有着深厚的传统，被视为一种能够帮助人们理解宇宙和生命的智慧\u001b[0m\n",
      "Thought:\u001b[32;1m\u001b[1;3m我现在知道玄学是研究超自然、灵性和宇宙本质的学科。\n",
      "Final Answer: 玄学是研究超自然、灵性和宇宙本质的学科。\u001b[0m\n",
      "\n",
      "\u001b[1m> Finished chain.\u001b[0m\n"
     ]
    },
    {
     "data": {
      "text/plain": [
       "{'input': '请问玄学是什么？', 'output': '玄学是研究超自然、灵性和宇宙本质的学科。'}"
      ]
     },
     "execution_count": 42,
     "metadata": {},
     "output_type": "execute_result"
    }
   ],
   "source": [
    "agent.invoke({\"input\":\"请问玄学是什么？\"},runconfig)"
   ]
  },
  {
   "cell_type": "code",
   "execution_count": null,
   "id": "87c753ce-072b-4964-bdd6-2b2fc1d0ed1e",
   "metadata": {
    "libroFormatter": "formatter-string"
   },
   "outputs": [],
   "source": []
  }
 ],
 "metadata": {},
 "nbformat": 4,
 "nbformat_minor": 5
}
