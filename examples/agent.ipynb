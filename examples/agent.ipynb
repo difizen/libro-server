{
 "cells": [
  {
   "cell_type": "code",
   "execution_count": 1,
   "id": "e44ea3e8-79c0-43aa-8c04-461cd4350098",
   "metadata": {
    "execution": {
     "shell.execute_reply.end": "2024-05-24T17:11:38.662737Z",
     "shell.execute_reply.started": "2024-05-24T17:11:37.865353Z",
     "to_execute": "2024-05-24T17:11:37.888Z"
    },
    "libroFormatter": "formatter-string"
   },
   "outputs": [],
   "source": [
    "from langchain.agents import AgentExecutor,ZeroShotAgent,Tool, tool"
   ]
  },
  {
   "cell_type": "code",
   "execution_count": 2,
   "id": "08d8e87f-7b9b-4255-a243-f036022d11ba",
   "metadata": {
    "execution": {
     "shell.execute_reply.end": "2024-05-24T17:11:39.870658Z",
     "shell.execute_reply.started": "2024-05-24T17:11:39.560701Z",
     "to_execute": "2024-05-24T17:11:39.581Z"
    },
    "libroFormatter": "formatter-string"
   },
   "outputs": [],
   "source": [
    "from langchain_openai import ChatOpenAI\n",
    "llm = ChatOpenAI()"
   ]
  },
  {
   "cell_type": "code",
   "execution_count": 3,
   "id": "cfe12625-0f1f-4916-acb3-8ae47463709f",
   "metadata": {
    "execution": {
     "shell.execute_reply.end": "2024-05-24T17:11:40.996460Z",
     "shell.execute_reply.started": "2024-05-24T17:11:40.985264Z",
     "to_execute": "2024-05-24T17:11:41.008Z"
    },
    "libroFormatter": "formatter-string"
   },
   "outputs": [],
   "source": [
    "def answer_metaphysics(query: str,callbacks) -> str:\n",
    "    \"\"\"能回答关于玄学的问题\"\"\"\n",
    "    print(callbacks.parent_run_id)\n",
    "    return \"玄学在东方文化中有着深厚的传统，被视为一种能够帮助人们理解宇宙和生命的智慧\""
   ]
  },
  {
   "cell_type": "code",
   "execution_count": 4,
   "id": "897e6d6e-7cbe-492a-946c-bc07fe4a635c",
   "metadata": {
    "execution": {
     "shell.execute_reply.end": "2024-05-24T17:11:42.106173Z",
     "shell.execute_reply.started": "2024-05-24T17:11:42.103987Z",
     "to_execute": "2024-05-24T17:11:42.114Z"
    },
    "libroFormatter": "formatter-string"
   },
   "outputs": [],
   "source": [
    "tools = [\n",
    "    Tool(\n",
    "        name=\"answer_metaphysics\",\n",
    "        func=answer_metaphysics,\n",
    "        description=\"能回答关于玄学的问题\",\n",
    "    ),\n",
    "]"
   ]
  },
  {
   "cell_type": "code",
   "execution_count": 5,
   "id": "ab6b0baf-7c8a-4ef9-9e01-26355430be18",
   "metadata": {
    "execution": {
     "shell.execute_reply.end": "2024-05-24T17:11:43.735071Z",
     "shell.execute_reply.started": "2024-05-24T17:11:43.595027Z",
     "to_execute": "2024-05-24T17:11:43.607Z"
    },
    "libroFormatter": "formatter-string"
   },
   "outputs": [],
   "source": [
    "agent_obj = ZeroShotAgent.from_llm_and_tools(llm,tools)"
   ]
  },
  {
   "cell_type": "code",
   "execution_count": 6,
   "id": "32a2262b-d923-4ceb-a14a-7687574d62b9",
   "metadata": {
    "execution": {
     "shell.execute_reply.end": "2024-05-24T17:11:45.032365Z",
     "shell.execute_reply.started": "2024-05-24T17:11:45.024114Z",
     "to_execute": "2024-05-24T17:11:45.043Z"
    },
    "libroFormatter": "formatter-string"
   },
   "outputs": [
    {
     "name": "stdout",
     "output_type": "stream",
     "text": [
      "1b236a5f-9158-48b2-bce0-ece580f222ec\n"
     ]
    }
   ],
   "source": [
    "from langchain_core.runnables.config import RunnableConfig    \n",
    "import uuid\n",
    "run_id = uuid.uuid4()\n",
    "print(run_id)\n",
    "runconfig = RunnableConfig(\n",
    "    run_id=run_id\n",
    ")"
   ]
  },
  {
   "cell_type": "code",
   "execution_count": 7,
   "id": "7b773148-86e4-4e8f-8cd8-c47f0fd9c682",
   "metadata": {
    "execution": {
     "shell.execute_reply.end": "2024-05-24T17:11:46.725996Z",
     "shell.execute_reply.started": "2024-05-24T17:11:46.721731Z",
     "to_execute": "2024-05-24T17:11:46.739Z"
    },
    "libroFormatter": "formatter-string"
   },
   "outputs": [],
   "source": [
    "agent = AgentExecutor.from_agent_and_tools(\n",
    "        agent=agent_obj,\n",
    "        tools=tools,\n",
    "        verbose=True\n",
    ")"
   ]
  },
  {
   "cell_type": "code",
   "execution_count": 8,
   "id": "7c87a13c-c485-48ec-bf35-a17556ddb90e",
   "metadata": {
    "execution": {
     "shell.execute_reply.end": "2024-05-24T17:11:52.228046Z",
     "shell.execute_reply.started": "2024-05-24T17:11:48.497006Z",
     "to_execute": "2024-05-24T17:11:48.522Z"
    },
    "libroFormatter": "formatter-string"
   },
   "outputs": [
    {
     "name": "stdout",
     "output_type": "stream",
     "text": [
      "\n",
      "\n",
      "\u001b[1m> Entering new AgentExecutor chain...\u001b[0m\n",
      "\u001b[32;1m\u001b[1;3m我应该使用\"answer_metaphysics\"来回答这个问题\n",
      "Action: answer_metaphysics\n",
      "Action Input: 玄学是研究超自然现象和超自然实体的学科\u001b[0m2350ea08-6fbe-46ad-a28e-fa7904af1de3\n",
      "\n",
      "Observation: \u001b[36;1m\u001b[1;3m玄学在东方文化中有着深厚的传统，被视为一种能够帮助人们理解宇宙和生命的智慧\u001b[0m\n",
      "Thought:\u001b[32;1m\u001b[1;3m我现在了解了玄学的定义\n",
      "Final Answer: 玄学是研究超自然现象和超自然实体的学科，被视为一种能够帮助人们理解宇宙和生命的智慧。\u001b[0m\n",
      "\n",
      "\u001b[1m> Finished chain.\u001b[0m\n"
     ]
    },
    {
     "data": {
      "text/plain": [
       "{'input': '请问玄学是什么？', 'output': '玄学是研究超自然现象和超自然实体的学科，被视为一种能够帮助人们理解宇宙和生命的智慧。'}"
      ]
     },
     "execution_count": 8,
     "metadata": {},
     "output_type": "execute_result"
    }
   ],
   "source": [
    "agent.invoke({\"input\":\"请问玄学是什么？\"},runconfig)"
   ]
  }
 ],
 "metadata": {},
 "nbformat": 4,
 "nbformat_minor": 5
}
