{
 "cells": [
  {
   "cell_type": "code",
   "execution_count": 1,
   "id": "e44ea3e8-79c0-43aa-8c04-461cd4350098",
   "metadata": {
    "execution": {
     "shell.execute_reply.end": "2024-05-25T18:35:18.904390Z",
     "shell.execute_reply.started": "2024-05-25T18:35:18.125462Z",
     "to_execute": "2024-05-25T18:35:18.171Z"
    },
    "libroFormatter": "formatter-string"
   },
   "outputs": [],
   "source": [
    "from langchain.agents import AgentExecutor,ZeroShotAgent,Tool, tool"
   ]
  },
  {
   "cell_type": "code",
   "execution_count": 2,
   "id": "08d8e87f-7b9b-4255-a243-f036022d11ba",
   "metadata": {
    "execution": {
     "shell.execute_reply.end": "2024-05-25T18:35:19.206464Z",
     "shell.execute_reply.started": "2024-05-25T18:35:18.905528Z",
     "to_execute": "2024-05-25T18:35:18.940Z"
    },
    "libroFormatter": "formatter-string"
   },
   "outputs": [],
   "source": [
    "from langchain_openai import ChatOpenAI\n",
    "llm = ChatOpenAI()"
   ]
  },
  {
   "cell_type": "code",
   "execution_count": 3,
   "id": "700b622e-17d7-4622-8e5f-e64a405185e5",
   "metadata": {
    "execution": {
     "shell.execute_reply.end": "2024-05-25T18:35:19.210428Z",
     "shell.execute_reply.started": "2024-05-25T18:35:19.207554Z",
     "to_execute": "2024-05-25T18:35:19.220Z"
    },
    "libroFormatter": "formatter-string"
   },
   "outputs": [],
   "source": [
    "from langchain.callbacks.base import BaseCallbackHandler\n",
    "\n",
    "class MyCustomHandler(BaseCallbackHandler):\n",
    "    def on_agent_action(\n",
    "        self, action, run_id, parent_run_id, **kwargs\n",
    "    ):\n",
    "        print(\"ON Agent action!\", action)\n",
    "        print(\"ON Agent action!\", run_id)\n",
    "        print(\"ON Agent action!\", parent_run_id)\n",
    "\n",
    "    def on_tool_start(self, serialized, input_str: str, **kwargs):\n",
    "        \"\"\"Run when tool starts running.\"\"\"\n",
    "        print(\"ON TOOL START!\", kwargs.get('run_id'),kwargs.get('parent_run_id'))\n",
    "        print(\"ON TOOL START!\", input_str)\n",
    "\n",
    "    def on_tool_end(self, output: str, **kwargs):\n",
    "        \"\"\"Run when tool ends running.\"\"\"\n",
    "        print(\"ON TOOL END!\")\n",
    "    def on_agent_finish(\n",
    "        self,\n",
    "        finish,\n",
    "        *,\n",
    "        run_id,\n",
    "        parent_run_id,\n",
    "        **kwargs,\n",
    "    ):\n",
    "        \"\"\"Run on agent end.\"\"\"\n",
    "        print(\"ON Agent finish!\", run_id)\n",
    "        print(\"ON Agent finish!\", parent_run_id)"
   ]
  },
  {
   "cell_type": "code",
   "execution_count": 4,
   "id": "cfe12625-0f1f-4916-acb3-8ae47463709f",
   "metadata": {
    "execution": {
     "shell.execute_reply.end": "2024-05-25T18:35:20.448914Z",
     "shell.execute_reply.started": "2024-05-25T18:35:20.443725Z",
     "to_execute": "2024-05-25T18:35:20.467Z"
    },
    "libroFormatter": "formatter-string"
   },
   "outputs": [],
   "source": [
    "def answer_metaphysics(*args, callbacks, **kwargs) -> str:\n",
    "    \"\"\"能回答关于玄学的问题\"\"\"\n",
    "    print(\"ON TOOL running!\",args)\n",
    "    print(\"ON TOOL running!\",callbacks.parent_run_id)\n",
    "    print(\"ON TOOL running!\",kwargs)\n",
    "    return \"玄学在东方文化中有着深厚的传统，被视为一种能够帮助人们理解宇宙和生命的智慧\""
   ]
  },
  {
   "cell_type": "code",
   "execution_count": 5,
   "id": "897e6d6e-7cbe-492a-946c-bc07fe4a635c",
   "metadata": {
    "execution": {
     "shell.execute_reply.end": "2024-05-25T18:35:20.892765Z",
     "shell.execute_reply.started": "2024-05-25T18:35:20.883564Z",
     "to_execute": "2024-05-25T18:35:20.918Z"
    },
    "libroFormatter": "formatter-string"
   },
   "outputs": [],
   "source": [
    "tools = [\n",
    "    Tool(\n",
    "        name=\"answer_metaphysics\",\n",
    "        func=answer_metaphysics,\n",
    "        description=\"能回答关于玄学的问题\",\n",
    "    ),\n",
    "]"
   ]
  },
  {
   "cell_type": "code",
   "execution_count": 6,
   "id": "ab6b0baf-7c8a-4ef9-9e01-26355430be18",
   "metadata": {
    "execution": {
     "shell.execute_reply.end": "2024-05-25T18:35:21.500792Z",
     "shell.execute_reply.started": "2024-05-25T18:35:21.340599Z",
     "to_execute": "2024-05-25T18:35:21.376Z"
    },
    "libroFormatter": "formatter-string"
   },
   "outputs": [],
   "source": [
    "agent_obj = ZeroShotAgent.from_llm_and_tools(llm,tools)"
   ]
  },
  {
   "cell_type": "code",
   "execution_count": 7,
   "id": "32a2262b-d923-4ceb-a14a-7687574d62b9",
   "metadata": {
    "execution": {
     "shell.execute_reply.end": "2024-05-25T18:35:21.873740Z",
     "shell.execute_reply.started": "2024-05-25T18:35:21.860448Z",
     "to_execute": "2024-05-25T18:35:21.891Z"
    },
    "libroFormatter": "formatter-string"
   },
   "outputs": [
    {
     "data": {
      "text/plain": [
       "dict_items([('metadata', {'test': 'test'}), ('callbacks', [<__main__.MyCustomHandler object at 0x1269d5210>])])"
      ]
     },
     "execution_count": 7,
     "metadata": {},
     "output_type": "execute_result"
    }
   ],
   "source": [
    "from langchain_core.runnables.config import RunnableConfig    \n",
    "import uuid\n",
    "runconfig = RunnableConfig(\n",
    "    metadata={\"test\":\"test\"},\n",
    "    callbacks=[MyCustomHandler()]\n",
    ")\n",
    "\n",
    "runconfig.items()"
   ]
  },
  {
   "cell_type": "code",
   "execution_count": 8,
   "id": "7b773148-86e4-4e8f-8cd8-c47f0fd9c682",
   "metadata": {
    "execution": {
     "shell.execute_reply.end": "2024-05-25T18:35:25.350240Z",
     "shell.execute_reply.started": "2024-05-25T18:35:25.335767Z",
     "to_execute": "2024-05-25T18:35:25.378Z"
    },
    "libroFormatter": "formatter-string"
   },
   "outputs": [],
   "source": [
    "agent = AgentExecutor.from_agent_and_tools(\n",
    "        agent=agent_obj,\n",
    "        tools=tools,\n",
    "        verbose=True\n",
    ")"
   ]
  },
  {
   "cell_type": "code",
   "execution_count": 9,
   "id": "7c87a13c-c485-48ec-bf35-a17556ddb90e",
   "metadata": {
    "execution": {
     "shell.execute_reply.end": "2024-05-25T18:35:32.144474Z",
     "shell.execute_reply.started": "2024-05-25T18:35:27.536744Z",
     "to_execute": "2024-05-25T18:35:27.550Z"
    },
    "libroFormatter": "formatter-string"
   },
   "outputs": [
    {
     "name": "stdout",
     "output_type": "stream",
     "text": [
      "\n",
      "\n",
      "\u001b[1m> Entering new AgentExecutor chain...\u001b[0m\n",
      "ON Agent action! tool='answer_metaphysics' tool_input='玄学是研究超越感官经验范围的事物的学问，探讨宇宙、人生、灵魂等深层次的问题' log='我应该使用能回答关于玄学的工具来回答这个问题\\nAction: answer_metaphysics\\nAction Input: 玄学是研究超越感官经验范围的事物的学问，探讨宇宙、人生、灵魂等深层次的问题'\n",
      "ON Agent action! f8e0de62-967a-41b2-af58-856baa281620\n",
      "ON Agent action! None\n",
      "\u001b[32;1m\u001b[1;3m我应该使用能回答关于玄学的工具来回答这个问题\n",
      "Action: answer_metaphysics\n",
      "Action Input: 玄学是研究超越感官经验范围的事物的学问，探讨宇宙、人生、灵魂等深层次的问题\u001b[0mON TOOL START! 5ce50d09-f0e4-48d6-8123-ffdb431225b3 f8e0de62-967a-41b2-af58-856baa281620\n",
      "ON TOOL START! 玄学是研究超越感官经验范围的事物的学问，探讨宇宙、人生、灵魂等深层次的问题\n",
      "ON TOOL running! ('玄学是研究超越感官经验范围的事物的学问，探讨宇宙、人生、灵魂等深层次的问题',)\n",
      "ON TOOL running! 5ce50d09-f0e4-48d6-8123-ffdb431225b3\n",
      "ON TOOL running! {}\n",
      "ON TOOL END!\n",
      "\n",
      "Observation: \u001b[36;1m\u001b[1;3m玄学在东方文化中有着深厚的传统，被视为一种能够帮助人们理解宇宙和生命的智慧\u001b[0m\n",
      "Thought:ON Agent finish! f8e0de62-967a-41b2-af58-856baa281620\n",
      "ON Agent finish! None\n",
      "\u001b[32;1m\u001b[1;3m我现在明白了关于玄学的定义\n",
      "Final Answer: 玄学是研究超越感官经验范围的事物的学问，探讨宇宙、人生、灵魂等深层次的问题，在东方文化中有着深厚的传统，被视为一种能够帮助人们理解宇宙和生命的智慧。\u001b[0m\n",
      "\n",
      "\u001b[1m> Finished chain.\u001b[0m\n"
     ]
    },
    {
     "data": {
      "text/plain": [
       "{'input': '请问玄学是什么？',\n",
       " 'output': '玄学是研究超越感官经验范围的事物的学问，探讨宇宙、人生、灵魂等深层次的问题，在东方文化中有着深厚的传统，被视为一种能够帮助人们理解宇宙和生命的智慧。'}"
      ]
     },
     "execution_count": 9,
     "metadata": {},
     "output_type": "execute_result"
    }
   ],
   "source": [
    "agent.invoke({\"input\":\"请问玄学是什么？\"},runconfig)"
   ]
  },
  {
   "cell_type": "code",
   "execution_count": null,
   "id": "87c753ce-072b-4964-bdd6-2b2fc1d0ed1e",
   "metadata": {
    "execution": {},
    "libroFormatter": "formatter-string"
   },
   "outputs": [],
   "source": []
  }
 ],
 "metadata": {},
 "nbformat": 4,
 "nbformat_minor": 5
}
