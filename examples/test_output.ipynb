{
 "cells": [
  {
   "cell_type": "code",
   "execution_count": 1,
   "id": "1bff4672-0101-4fc1-ad2b-facf0cc7c4ae",
   "metadata": {
    "execution": {
     "iopub.execute_input": "2024-02-02T07:38:08.326565Z",
     "iopub.status.busy": "2024-02-02T07:38:08.326219Z",
     "iopub.status.idle": "2024-02-02T07:38:08.711035Z",
     "shell.execute_reply": "2024-02-02T07:38:08.710179Z"
    },
    "libroFormatter": "formatter-string"
   },
   "outputs": [],
   "source": [
    "from libro_server import define_nb_args,to_nb_output\n",
    "from pydantic import BaseModel"
   ]
  },
  {
   "cell_type": "code",
   "execution_count": 2,
   "id": "126d33c8-c8fb-400c-9564-77834d775b99",
   "metadata": {
    "execution": {
     "iopub.execute_input": "2024-02-02T07:38:08.720772Z",
     "iopub.status.busy": "2024-02-02T07:38:08.720271Z",
     "iopub.status.idle": "2024-02-02T07:38:08.731609Z",
     "shell.execute_reply": "2024-02-02T07:38:08.728820Z"
    },
    "libroFormatter": "formatter-string"
   },
   "outputs": [],
   "source": [
    "class Parameters(BaseModel):\n",
    "    a:int = 1\n",
    "    b:str = \"test1\""
   ]
  },
  {
   "cell_type": "code",
   "execution_count": 3,
   "id": "4007a6ce-c742-4d24-99de-7eebed59edbf",
   "metadata": {
    "execution": {
     "iopub.execute_input": "2024-02-02T07:38:08.740395Z",
     "iopub.status.busy": "2024-02-02T07:38:08.739902Z",
     "iopub.status.idle": "2024-02-02T07:38:08.753304Z",
     "shell.execute_reply": "2024-02-02T07:38:08.752357Z"
    },
    "libroFormatter": "formatter-string"
   },
   "outputs": [
    {
     "data": {
      "application/vnd.libro.args+json": {
       "properties": {
        "a": {
         "default": 1,
         "title": "A",
         "type": "integer"
        },
        "b": {
         "default": "test1",
         "title": "B",
         "type": "string"
        }
       },
       "title": "Parameters",
       "type": "object"
      }
     },
     "metadata": {},
     "output_type": "display_data"
    }
   ],
   "source": [
    "define_nb_args(Parameters)"
   ]
  },
  {
   "cell_type": "code",
   "execution_count": 4,
   "id": "e961bf24-15ed-47bb-8fa3-d4aa3123a6ba",
   "metadata": {
    "execution": {
     "iopub.execute_input": "2024-02-02T07:38:08.761035Z",
     "iopub.status.busy": "2024-02-02T07:38:08.760604Z",
     "iopub.status.idle": "2024-02-02T07:38:08.776380Z",
     "shell.execute_reply": "2024-02-02T07:38:08.775378Z"
    },
    "libroFormatter": "formatter-string"
   },
   "outputs": [
    {
     "data": {
      "text/plain": [
       "'./b.pickle'"
      ]
     },
     "execution_count": 5,
     "metadata": {},
     "output_type": "execute_result"
    }
   ],
   "source": [
    "to_nb_output(a,output_variable_path = './b.pickle')"
   ]
  },
  {
   "cell_type": "code",
   "execution_count": 5,
   "id": "77baaa3e-0e53-4b35-9806-c19770bd5342",
   "metadata": {
    "execution": {
     "iopub.execute_input": "2024-02-02T07:38:08.784071Z",
     "iopub.status.busy": "2024-02-02T07:38:08.783339Z",
     "iopub.status.idle": "2024-02-02T07:38:08.793804Z",
     "shell.execute_reply": "2024-02-02T07:38:08.792209Z"
    },
    "libroFormatter": "formatter-string"
   },
   "outputs": [
    {
     "name": "stdout",
     "output_type": "stream",
     "text": [
      "a 2\n"
     ]
    }
   ],
   "source": [
    "print('a',a)"
   ]
  }
 ],
 "metadata": {
  "args": {
   "properties": {
    "a": {
     "default": 1,
     "title": "A",
     "type": "integer"
    },
    "b": {
     "default": "test1",
     "title": "B",
     "type": "string"
    }
   },
   "title": "Parameters",
   "type": "object"
  },
  "language_info": {
   "codemirror_mode": {
    "name": "ipython",
    "version": 3
   },
   "file_extension": ".py",
   "mimetype": "text/x-python",
   "name": "python",
   "nbconvert_exporter": "python",
   "pygments_lexer": "ipython3",
   "version": "3.9.13"
  }
 },
 "nbformat": 4,
 "nbformat_minor": 5
}
