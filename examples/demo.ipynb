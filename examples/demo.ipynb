{
 "cells": [
  {
   "cell_type": "code",
   "execution_count": 1,
   "id": "237cf202-5670-454e-aa50-ae0fcae893ab",
   "metadata": {
    "execution": {
     "shell.execute_reply.end": "2024-02-20T12:22:14.491854Z",
     "shell.execute_reply.started": "2024-02-20T12:22:14.099718Z",
     "to_execute": "2024-02-20T12:22:14.123Z"
    },
    "libroFormatter": "formatter-string"
   },
   "outputs": [],
   "source": [
    "from libro_server import execute_notebook,load_nb_output"
   ]
  },
  {
   "cell_type": "code",
   "execution_count": 5,
   "id": "ec3e356d-a863-4efe-9658-e7990687ad2e",
   "metadata": {
    "execution": {
     "shell.execute_reply.end": "2024-02-20T12:23:08.777381Z",
     "shell.execute_reply.started": "2024-02-20T12:23:07.370441Z",
     "to_execute": "2024-02-20T12:23:07.400Z"
    },
    "libroFormatter": "formatter-string"
   },
   "outputs": [],
   "source": [
    "output_path ,log = execute_notebook(notebook = \"./test.ipynb\",output_path = \"test.pickle\",parameters = {\"a\":2})"
   ]
  },
  {
   "cell_type": "code",
   "execution_count": 6,
   "id": "21f0ab0d-5d37-44a5-a918-5ad961e9ada5",
   "metadata": {
    "execution": {
     "shell.execute_reply.end": "2024-02-20T12:23:09.819911Z",
     "shell.execute_reply.started": "2024-02-20T12:23:09.813115Z",
     "to_execute": "2024-02-20T12:23:09.871Z"
    },
    "libroFormatter": "formatter-string"
   },
   "outputs": [
    {
     "name": "stdout",
     "output_type": "stream",
     "text": [
      "test.pickle\n"
     ]
    }
   ],
   "source": [
    "print(output_path)"
   ]
  },
  {
   "cell_type": "code",
   "execution_count": 7,
   "id": "4edf6a70-f7d1-4884-8403-6c057511bc7b",
   "metadata": {
    "execution": {
     "shell.execute_reply.end": "2024-02-20T12:23:12.500789Z",
     "shell.execute_reply.started": "2024-02-20T12:23:12.482800Z",
     "to_execute": "2024-02-20T12:23:12.514Z"
    },
    "libroFormatter": "formatter-string"
   },
   "outputs": [
    {
     "data": {
      "text/plain": [
       "2"
      ]
     },
     "execution_count": 7,
     "metadata": {},
     "output_type": "execute_result"
    }
   ],
   "source": [
    "load_nb_output(output_path)"
   ]
  }
 ],
 "metadata": {
  "kernelspec": {
   "display_name": "Python 3 (ipykernel)",
   "language": "python",
   "name": "python3"
  },
  "language_info": {
   "codemirror_mode": {
    "name": "ipython",
    "version": 3
   },
   "file_extension": ".py",
   "mimetype": "text/x-python",
   "name": "python",
   "nbconvert_exporter": "python",
   "pygments_lexer": "ipython3",
   "version": "3.9.13"
  }
 },
 "nbformat": 4,
 "nbformat_minor": 5
}
