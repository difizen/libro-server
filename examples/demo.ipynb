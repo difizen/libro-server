{
 "cells": [
  {
   "cell_type": "code",
   "execution_count": 1,
   "id": "237cf202-5670-454e-aa50-ae0fcae893ab",
   "metadata": {
    "execution": {
     "shell.execute_reply.end": "2024-02-02T07:38:05.597218Z",
     "shell.execute_reply.started": "2024-02-02T07:38:05.142998Z",
     "to_execute": "2024-02-02T07:38:05.161Z"
    },
    "libroFormatter": "formatter-string"
   },
   "outputs": [],
   "source": [
    "from libro_server import execute_notebook,load_nb_output"
   ]
  },
  {
   "cell_type": "code",
   "execution_count": 2,
   "id": "ec3e356d-a863-4efe-9658-e7990687ad2e",
   "metadata": {
    "execution": {
     "shell.execute_reply.end": "",
     "shell.execute_reply.started": "2024-02-02T07:38:07.603585Z",
     "to_execute": "2024-02-02T07:38:07.623Z"
    },
    "libroFormatter": "formatter-string"
   },
   "outputs": [],
   "source": [
    "output_path = execute_notebook(\"./test.ipynb\",\"./test_output.ipynb\",{\"a\":2})"
   ]
  },
  {
   "cell_type": "code",
   "execution_count": null,
   "id": "4edf6a70-f7d1-4884-8403-6c057511bc7b",
   "metadata": {
    "execution": {},
    "libroFormatter": "formatter-string"
   },
   "outputs": [],
   "source": [
    "load_nb_output(output_path)"
   ]
  }
 ],
 "metadata": {
  "kernelspec": {
   "display_name": "Python 3 (ipykernel)",
   "language": "python",
   "name": "python3"
  },
  "language_info": {
   "codemirror_mode": {
    "name": "ipython",
    "version": 3
   },
   "file_extension": ".py",
   "mimetype": "text/x-python",
   "name": "python",
   "nbconvert_exporter": "python",
   "pygments_lexer": "ipython3",
   "version": "3.9.13"
  }
 },
 "nbformat": 4,
 "nbformat_minor": 5
}
