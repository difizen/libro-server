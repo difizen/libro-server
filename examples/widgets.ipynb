{
 "cells": [
  {
   "cell_type": "code",
   "execution_count": 54,
   "id": "5c5a4ec5-4a59-431f-8a14-f33058d25cea",
   "metadata": {
    "execution": {
     "shell.execute_reply.end": "2024-05-10T08:10:54.852036Z",
     "shell.execute_reply.started": "2024-05-10T08:10:54.848651Z",
     "to_execute": "2024-05-10T08:10:54.881Z"
    },
    "libroFormatter": "formatter-string"
   },
   "outputs": [],
   "source": [
    "import ipywidgets as widgets"
   ]
  },
  {
   "cell_type": "code",
   "execution_count": 55,
   "id": "23dd6575-e78f-4e25-8f6c-c72325591510",
   "metadata": {
    "execution": {
     "shell.execute_reply.end": "2024-05-10T08:10:55.200371Z",
     "shell.execute_reply.started": "2024-05-10T08:10:55.195637Z",
     "to_execute": "2024-05-10T08:10:55.232Z"
    },
    "libroFormatter": "formatter-string"
   },
   "outputs": [
    {
     "data": {
      "application/vnd.jupyter.widget-view+json": {
       "model_id": "e536bf83f681481b8a3c34b24024f989",
       "version_major": 2,
       "version_minor": 0
      },
      "text/plain": [
       "IntSlider(value=7, continuous_update=False, description='Test:', max=10)"
      ]
     },
     "execution_count": 55,
     "metadata": {},
     "output_type": "execute_result"
    }
   ],
   "source": [
    "widgets.IntSlider(\n",
    "    value=7,\n",
    "    min=0,\n",
    "    max=10,\n",
    "    step=1,\n",
    "    description='Test:',\n",
    "    disabled=False,\n",
    "    continuous_update=False,\n",
    "    orientation='horizontal',\n",
    "    readout=True,\n",
    "    readout_format='d'\n",
    ")"
   ]
  },
  {
   "cell_type": "code",
   "execution_count": 4,
   "id": "5b4e4266-39d9-4f65-a021-6817082d23ff",
   "metadata": {
    "execution": {
     "iopub.execute_input": "2024-04-29T05:20:11.494092Z",
     "iopub.status.busy": "2024-04-29T05:20:11.493459Z",
     "iopub.status.idle": "2024-04-29T05:20:11.637016Z",
     "shell.execute_reply": "2024-04-29T05:20:11.636161Z",
     "shell.execute_reply.started": "2024-04-29T05:20:11.494048Z"
    },
    "libroFormatter": "formatter-string"
   },
   "outputs": [
    {
     "data": {
      "application/vnd.jupyter.widget-view+json": {
       "model_id": "d4e477903aae4c3cbc48a7feb9af71a2",
       "version_major": 2,
       "version_minor": 0
      },
      "text/plain": [
       "interactive(children=(IntSlider(value=2, description='freq', max=10, min=1), Output()), _dom_classes=('widget-…"
      ]
     },
     "execution_count": 4,
     "metadata": {},
     "output_type": "execute_result"
    }
   ],
   "source": [
    "import matplotlib.pyplot as plt \n",
    "import numpy as np\n",
    "\n",
    "def plot_func(freq):\n",
    "    x = np.linspace(0, 2 * np.pi)\n",
    "    y = np.sin(freq * x)\n",
    "    plt.plot(x,y)\n",
    "    plt.ylim(-1,1)\n",
    "    plt.show()\n",
    "\n",
    "widgets.interactive(plot_func, freq=widgets.IntSlider(value=2, min=1, max=10))"
   ]
  },
  {
   "cell_type": "code",
   "execution_count": null,
   "id": "d2b77564-451d-4f7a-add8-9fd8e7428b41",
   "metadata": {
    "libroFormatter": "formatter-string"
   },
   "outputs": [],
   "source": []
  },
  {
   "cell_type": "code",
   "execution_count": null,
   "id": "6d218b74-65ec-4719-bde7-6e593585301d",
   "metadata": {
    "execution": {},
    "libroFormatter": "formatter-string"
   },
   "outputs": [],
   "source": []
  }
 ],
 "metadata": {
  "kernelspec": {
   "display_name": "Python 3 (ipykernel)",
   "language": "python",
   "name": "python3"
  },
  "language_info": {
   "codemirror_mode": {
    "name": "ipython",
    "version": 3
   },
   "file_extension": ".py",
   "mimetype": "text/x-python",
   "name": "python",
   "nbconvert_exporter": "python",
   "pygments_lexer": "ipython3",
   "version": "3.9.7"
  }
 },
 "nbformat": 4,
 "nbformat_minor": 5
}
