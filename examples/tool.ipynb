{
 "cells": [
  {
   "cell_type": "code",
   "execution_count": null,
   "id": "b816a87f-7dc0-447a-af2e-33cfce91ff06",
   "metadata": {
    "libroFormatter": "formatter-string"
   },
   "outputs": [],
   "source": [
    "import os\n",
    "\n",
    "def create_tool_func(name,):\n",
    "    # 定义一个根据文件名动态创建的函数\n",
    "    def tool_method():\n",
    "        print(f\"Method for {name} called\")\n",
    "    return tool_method\n",
    "\n",
    "def create_instances(path):\n",
    "    instances = []\n",
    "    for file_name in os.listdir(path):\n",
    "        if os.path.isfile(os.path.join(path, file_name)):\n",
    "            # 为每个文件创建一个方法，方法名与文件名相关联\n",
    "            file_method = create_method(file_name)\n",
    "            # 将文件名和对应的方法传递给ClassA，创建ClassA的实例\n",
    "            instance = ClassA(file_name, file_method)\n",
    "            instances.append(instance)\n",
    "    return instances\n",
    "\n",
    "# 示例使用\n",
    "path = \"/your/path/to/files\"  # 这里填写你的文件路径\n",
    "instances = create_instances(path)\n",
    "\n",
    "# 测试打印及函数调用\n",
    "for instance in instances:\n",
    "    print(f\"Instance name: {instance.name}\")\n",
    "    instance.func()\n"
   ]
  }
 ],
 "metadata": {},
 "nbformat": 4,
 "nbformat_minor": 5
}
