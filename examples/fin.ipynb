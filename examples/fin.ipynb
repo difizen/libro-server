{
 "cells": [
  {
   "cell_type": "code",
   "execution_count": 1,
   "id": "934d5a59-fdfa-4062-928c-3c5db3c7406b",
   "metadata": {
    "execution": {
     "shell.execute_reply.end": "2024-05-27T13:12:51.927552Z",
     "shell.execute_reply.started": "2024-05-27T13:12:51.594457Z",
     "to_execute": "2024-05-27T13:12:51.649Z"
    },
    "libroCellType": "code",
    "libroFormatter": "formatter-string"
   },
   "outputs": [],
   "source": [
    "%load_ext libro_ai"
   ]
  },
  {
   "cell_type": "code",
   "execution_count": 2,
   "id": "eedc42b9-542d-4942-8b0b-15ae49c57501",
   "metadata": {
    "execution": {
     "shell.execute_reply.end": "2024-05-27T13:12:52.437940Z",
     "shell.execute_reply.started": "2024-05-27T13:12:52.318397Z",
     "to_execute": "2024-05-27T13:12:52.388Z"
    },
    "libroFormatter": "formatter-string"
   },
   "outputs": [],
   "source": [
    "import fin"
   ]
  },
  {
   "cell_type": "code",
   "execution_count": 3,
   "id": "6e68100d-09e2-4cad-8d39-1e6fde2cacca",
   "metadata": {
    "execution": {
     "shell.execute_reply.end": "2024-05-27T13:13:04.273101Z",
     "shell.execute_reply.started": "2024-05-27T13:12:52.951416Z",
     "to_execute": "2024-05-27T13:12:52.948Z"
    },
    "libroCellType": "prompt"
   },
   "outputs": [
    {
     "data": {
      "application/vnd.libro.prompt+json": "**基本信息介绍**\n- 因子名称：资本利得突出量 (Capital Gains Outperformance, CGO)\n- 因子类型：动量因子\n\n**构建步骤和公式**\n1. 计算参考价格 $RP_t$：\n   $$\n   RP_t = \\frac{1}{k} \\sum_{n=1}^{T} \\left( V_{t-n} \\prod_{\\tau=1}^{n-1} (1 - V_{t-n+\\tau}) \\right) P_{t-n}\n   $$\n2. 计算资本利得突出量 $CGO_t$：\n   $$\n   CGO_t = \\frac{P_{t-1} - RP_t}{P_{t-1}}\n   $$\n\n**参数描述**\n- $V$：为股票在第$n$周的换手率\n- $P$：为第$n$周末的股价\n- $T$：为过去5年的周数, $T=260$\n- $k$：为价格前面权重进行归一化的系数\n- $RP_t$：为第$t$周的参考价格 (Reference Price)\n\n**依赖数据**\n- 股票的周换手率 $V$\n- 股票的周末股价 $P$\n\n**因子方向**\n- 正\n\n**其他信息介绍**\n- 参考价格代表了当前的平均成交价格（价格衡量基于换手率的权重叠加股票持有至今的未换交易的简单权重）。\n- $CGO$衡量了当前的市场投资者的投资与市场的偏离程度。$CGO$越大，表示投资者的资本利得表现出明显的回撤意图，股价波动越大，股价更有可能被低估，未来收益更高。"
     },
     "metadata": {},
     "output_type": "display_data"
    }
   ],
   "source": [
    "%%prompt \n",
    "{\"model_name\":\"CUSTOM:Quant-Expert\",\"chat_key\":\"CUSTOM:Quant-Expert\",\"prompt\":\"提取图片中的信息\",\"cell_id\":\"6e68100d-09e2-4cad-8d39-1e6fde2cacca\",\"record\":\"default\",\"filename\":\"a-因子日历-资本利得突出量.jpeg\"}"
   ]
  },
  {
   "cell_type": "code",
   "execution_count": 4,
   "id": "652eeaf8-f7c7-4152-b0fa-297905212e4e",
   "metadata": {
    "execution": {
     "shell.execute_reply.end": "2024-05-27T13:16:50.693961Z",
     "shell.execute_reply.started": "2024-05-27T13:16:11.945946Z",
     "to_execute": "2024-05-27T13:16:11.943Z"
    },
    "libroCellType": "prompt"
   },
   "outputs": [
    {
     "data": {
      "text/html": [
       "\n",
       "                    <div style=\"display: flex; align-items: center\">\n",
       "                    <span style=\"color:rgb(22, 119, 255);padding:0 12px\" role=\"img\" aria-label=\"exclamation-circle\" class=\"anticon anticon-exclamation-circle\"><svg viewBox=\"64 64 896 896\" focusable=\"false\" data-icon=\"exclamation-circle\" width=\"1em\" height=\"1em\" fill=\"currentColor\" aria-hidden=\"true\" style=\"\n",
       "                        width: 32px;\n",
       "                    \"><path d=\"M512 64C264.6 64 64 264.6 64 512s200.6 448 448 448 448-200.6 448-448S759.4 64 512 64zm-32 232c0-4.4 3.6-8 8-8h48c4.4 0 8 3.6 8 8v272c0 4.4-3.6 8-8 8h-48c-4.4 0-8-3.6-8-8V296zm32 440a48.01 48.01 0 010-96 48.01 48.01 0 010 96z\"></path></svg></span>\n",
       "                    重试生成\n",
       "                    </div>"
      ],
      "text/plain": [
       "<IPython.core.display.HTML object>"
      ]
     },
     "metadata": {},
     "output_type": "display_data"
    },
    {
     "data": {
      "application/vnd.libro.prompt+json": "好的，以下是根据你的要求生成的代码：\n\n```python\nfrom finresearch.public_func import func_loader\nimport pandas as pd\n\nclass CapitalGainsOutperformance:\n    \"\"\"\n    资本利得突出量 (CGO) 因子的介绍信息\n    \"\"\"\n\n    @classmethod\n    def compute(cls):\n        \"\"\"\n        获取因子依赖的变量数据\n        \"\"\"\n        weekly_turnover = cls.get_weekly_turnover()\n        weekly_close = cls.get_weekly_close()\n\n        \"\"\"\n        因子计算逻辑\n        \"\"\"\n        T = 260  # 过去5年的周数\n        k = T  # 归一化系数\n\n        # 计算参考价格 RP_t\n        RP_t = (weekly_turnover * weekly_close.shift(1)).rolling(T).mean() / k\n\n        # 计算资本利得突出量 CGO_t\n        CGO_t = (weekly_close.shift(1) - RP_t) / weekly_close.shift(1)\n\n        \"\"\"\n        返回结果\n        \"\"\"\n        return CGO_t\n\n    @classmethod\n    def get_weekly_turnover(cls):\n        \"\"\"\n        获取周均换手率数据\n        \"\"\"\n        quote_unicode_data_cache = func_loader.import_by_id(\"@finresearch/quote_unicode_data_cache\")\n        data = quote_unicode_data_cache('CUS0000000017', d0='2015-01-01 00:00:00', filter=['SWI']).pivot('the_datetime', 'symbol', 'value').rename_axis(index=None, columns=None)\n        return data\n\n    @classmethod\n    def get_weekly_close(cls):\n        \"\"\"\n        获取周度收盘价数据\n        \"\"\"\n        quote_unicode_data_cache = func_loader.import_by_id(\"@finresearch/quote_unicode_data_cache\")\n        data = quote_unicode_data_cache('HQD0000000002', d0='2015-01-01 00:00:00', filter=['SWI']).pivot('the_datetime', 'symbol', 'value').rename_axis(index=None, columns=None)\n        return data\n\n# 计算因子并返回结果\nfactor_pvt = (1) * CapitalGainsOutperformance.compute()\nprint(factor_pvt.tail(5))\n```\n\n**代码解释**：\n1. `CapitalGainsOutperformance`类用于计算资本利得突出量 (CGO) 因子。\n2. `compute`方法获取周均换手率和周度收盘价数据，并根据公式计算CGO因子。\n3. `get_weekly_turnover`和`get_weekly_close`方法分别从内部数据源获取周均换手率和周度收盘价数据。\n4. 最后，计算出的因子结果被打印出来。\n\n请确保你有相应的内部数据源和库函数，以便代码可以正常运行。"
     },
     "metadata": {},
     "output_type": "display_data"
    }
   ],
   "source": [
    "%%prompt \n",
    "{\"model_name\":\"CUSTOM:Quant-Expert\",\"chat_key\":\"CUSTOM:Quant-Expert\",\"prompt\":\"生成代码\",\"cell_id\":\"652eeaf8-f7c7-4152-b0fa-297905212e4e\",\"record\":\"default\"}"
   ]
  }
 ],
 "metadata": {},
 "nbformat": 4,
 "nbformat_minor": 5
}
