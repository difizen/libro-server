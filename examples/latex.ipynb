{
 "cells": [
  {
   "cell_type": "markdown",
   "id": "1fc75254-4202-47d4-8e10-b3c4d3a3837d",
   "metadata": {
    "libroFormatter": "formatter-string"
   },
   "source": []
  },
  {
   "cell_type": "markdown",
   "id": "cc5717b1-080a-443a-b64e-e37d99dee7a4",
   "metadata": {
    "libroFormatter": "formatter-string"
   },
   "source": [
    "$$\n",
    "RP_t = \\frac{1}{k} \\sum_{n=1}^{T}(V_{t-n}\\prod_{\\tau=1}^{n-1}(1-V_{t-\\tau-n+\\tau}))P_{t-n}\n",
    "$$\n",
    "\n",
    "\n",
    "$$\n",
    "CGO_t = \\frac{P_{t-1}-RP_t}{P_{t-1}}\n",
    "$$\n",
    "\n",
    "\n",
    "- $V_t$: 股票第t周的换手率。\n",
    "- $P_t$: 第t周末的股价。\n",
    "- $k$: 价格前面额权重进行归一化的系数。\n",
    "- $RP_t$: 第t周的参考价格。"
   ]
  },
  {
   "cell_type": "markdown",
   "id": "1e17fec4-ffa6-445d-a553-8a5c39b212b7",
   "metadata": {
    "libroFormatter": "formatter-string"
   },
   "source": []
  }
 ],
 "metadata": {},
 "nbformat": 4,
 "nbformat_minor": 5
}
