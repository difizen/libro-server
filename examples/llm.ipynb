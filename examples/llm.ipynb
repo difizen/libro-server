{
 "cells": [
  {
   "cell_type": "code",
   "execution_count": null,
   "id": "e9ab7308-7da1-4620-80ca-8f1c23a18a76",
   "metadata": {
    "execution": {},
    "libroFormatter": "formatter-string"
   },
   "outputs": [],
   "source": [
    "%load_ext libro_ai"
   ]
  },
  {
   "cell_type": "code",
   "execution_count": null,
   "id": "0800424d-9c6c-437f-b500-0a31576d2ead",
   "metadata": {
    "execution": {},
    "libroFormatter": "formatter-string"
   },
   "outputs": [],
   "source": [
    "output_language = 'English'"
   ]
  },
  {
   "cell_type": "code",
   "execution_count": null,
   "id": "565fcbdd-f0a4-40c7-8663-222a0f30fad6",
   "metadata": {
    "libroCellType": "prompt"
   },
   "outputs": [],
   "source": [
    "%%prompt \n",
    "{\"model_name\":\"LLM:chatgpt\",\"chat_key\":\"LLM:chatgpt\",\"prompt\":\"You are a helpful assistant that translates Chinese to {output_language}.\",\"cell_id\":\"565fcbdd-f0a4-40c7-8663-222a0f30fad6\",\"record\":\"chat1\"}"
   ]
  },
  {
   "cell_type": "code",
   "execution_count": null,
   "id": "d86071ba-e90f-4a4d-a775-099e08dae8df",
   "metadata": {
    "libroCellType": "prompt"
   },
   "outputs": [],
   "source": [
    "%%prompt \n",
    "{\"model_name\":\"LLM:chatgpt\",\"chat_key\":\"LLM:chatgpt\",\"prompt\":\"天气不错，一起去散步吧\",\"variable_name\":\"res\",\"cell_id\":\"d86071ba-e90f-4a4d-a775-099e08dae8df\",\"record\":\"chat1\"}"
   ]
  },
  {
   "cell_type": "code",
   "execution_count": null,
   "id": "dfcb50e2-d28e-409a-bedb-909be6f1f3af",
   "metadata": {
    "libroCellType": "prompt"
   },
   "outputs": [],
   "source": [
    "%%prompt \n",
    "{\"model_name\":\"LMM:dalle-3\",\"chat_key\":\"LMM:dalle-3\",\"prompt\":\"画一张雪景图\",\"cell_id\":\"dfcb50e2-d28e-409a-bedb-909be6f1f3af\"}"
   ]
  },
  {
   "cell_type": "code",
   "execution_count": null,
   "id": "50f9b1e9-6d6b-4939-9e31-d62d19f8c407",
   "metadata": {
    "execution": {},
    "libroFormatter": "formatter-string"
   },
   "outputs": [],
   "source": [
    "res.content"
   ]
  },
  {
   "cell_type": "code",
   "execution_count": null,
   "id": "37d312d3-5713-40f3-ad61-507153b5c34a",
   "metadata": {
    "execution": {},
    "libroFormatter": "formatter-string"
   },
   "outputs": [],
   "source": [
    "from langchain_openai import ChatOpenAI\n",
    "\n",
    "chat = ChatOpenAI()"
   ]
  },
  {
   "cell_type": "code",
   "execution_count": null,
   "id": "c7c56f6b-f8f1-4f9f-89e1-2118f2a5cf04",
   "metadata": {
    "libroCellType": "prompt"
   },
   "outputs": [],
   "source": [
    "%%prompt \n",
    "{\"model_name\":\"VARIABLE:chat\",\"chat_key\":\"VARIABLE:chat\",\"prompt\":\"hi\\n\",\"cell_id\":\"c7c56f6b-f8f1-4f9f-89e1-2118f2a5cf04\"}"
   ]
  },
  {
   "cell_type": "code",
   "execution_count": null,
   "id": "55004e49-e3a3-4d38-837b-ee281e8587f8",
   "metadata": {
    "execution": {},
    "libroFormatter": "formatter-string"
   },
   "outputs": [],
   "source": [
    "from libro_server import chat_record_provider, chat_object_manager\n",
    "chat_record_provider.get_record('chat1').get_messages()"
   ]
  },
  {
   "cell_type": "code",
   "execution_count": null,
   "id": "d0a23e4d-303f-4841-857f-d8a04942773a",
   "metadata": {
    "execution": {},
    "libroFormatter": "formatter-string"
   },
   "outputs": [],
   "source": [
    "chat_object_manager.get_object_list()"
   ]
  },
  {
   "cell_type": "code",
   "execution_count": null,
   "id": "236dd56b-364f-4030-acaa-1b868c0fe4cf",
   "metadata": {
    "execution": {},
    "libroFormatter": "formatter-string"
   },
   "outputs": [],
   "source": [
    "import random\n",
    "import gradio as gr\n",
    "from langchain.schema import AIMessage, HumanMessage\n",
    "from libro_server import chat_record_provider, chat_object_manager\n",
    "gr.close_all()\n",
    "\n",
    "def predict(message, history):\n",
    "    history_langchain_format = chat_record_provider.get_record('chat1').get_messages()\n",
    "    for human, ai in history:\n",
    "        history_langchain_format.append(HumanMessage(content=human))\n",
    "        history_langchain_format.append(AIMessage(content=ai))\n",
    "    history_langchain_format.append(HumanMessage(content=message))\n",
    "    gpt_response = chat(history_langchain_format)\n",
    "    return gpt_response.content\n",
    "\n",
    "gr.ChatInterface(predict).launch(debug=True)"
   ]
  },
  {
   "cell_type": "code",
   "execution_count": null,
   "id": "f1d8dd45-fe3e-45dd-84bf-b1ce20f0e6a1",
   "metadata": {
    "execution": {},
    "libroFormatter": "formatter-string"
   },
   "outputs": [],
   "source": [
    "!pip install gradio"
   ]
  },
  {
   "cell_type": "code",
   "execution_count": null,
   "id": "76036ad1-3746-4786-a9d4-df35541ea592",
   "metadata": {
    "execution": {},
    "libroFormatter": "formatter-string"
   },
   "outputs": [],
   "source": [
    "class A:\n",
    "    name='A'\n",
    "\n",
    "a = A()\n",
    "\n",
    "class A:\n",
    "    name='B'\n",
    "\n",
    "b = A()\n",
    "[a.name,b.name]"
   ]
  },
  {
   "cell_type": "code",
   "execution_count": null,
   "id": "7bd35e40-427d-4a5f-8776-d2ce4b9976a0",
   "metadata": {
    "execution": {},
    "libroFormatter": "formatter-string"
   },
   "outputs": [],
   "source": []
  }
 ],
 "metadata": {},
 "nbformat": 4,
 "nbformat_minor": 5
}
