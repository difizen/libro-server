{
 "cells": [
  {
   "cell_type": "code",
   "execution_count": null,
   "id": "1bff4672-0101-4fc1-ad2b-facf0cc7c4ae",
   "metadata": {
    "execution": {},
    "libroFormatter": "formatter-string"
   },
   "outputs": [],
   "source": [
    "from libro_server import define_nb_args,to_nb_output\n",
    "from pydantic import BaseModel"
   ]
  },
  {
   "cell_type": "code",
   "execution_count": null,
   "id": "126d33c8-c8fb-400c-9564-77834d775b99",
   "metadata": {
    "execution": {},
    "libroFormatter": "formatter-string"
   },
   "outputs": [],
   "source": [
    "class Parameters(BaseModel):\n",
    "    a:int = 1\n",
    "    b:str = \"test1\""
   ]
  },
  {
   "cell_type": "code",
   "execution_count": null,
   "id": "4007a6ce-c742-4d24-99de-7eebed59edbf",
   "metadata": {
    "execution": {},
    "libroFormatter": "formatter-string"
   },
   "outputs": [],
   "source": [
    "define_nb_args(Parameters)"
   ]
  },
  {
   "cell_type": "code",
   "execution_count": null,
   "id": "e961bf24-15ed-47bb-8fa3-d4aa3123a6ba",
   "metadata": {
    "execution": {},
    "libroFormatter": "formatter-string"
   },
   "outputs": [],
   "source": [
    "to_nb_output(a,output_path = \"test.pickle\")"
   ]
  }
 ],
 "metadata": {
  "args": {
   "properties": {
    "a": {
     "default": 1,
     "title": "A",
     "type": "integer"
    },
    "b": {
     "default": "test1",
     "title": "B",
     "type": "string"
    }
   },
   "title": "Parameters",
   "type": "object"
  }
 },
 "nbformat": 4,
 "nbformat_minor": 5
}
