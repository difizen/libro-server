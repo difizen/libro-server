{
 "cells": [
  {
   "cell_type": "code",
   "execution_count": 1,
   "id": "1bff4672-0101-4fc1-ad2b-facf0cc7c4ae",
   "metadata": {
    "execution": {
     "shell.execute_reply.end": "2024-04-17T10:39:31.408758Z",
     "shell.execute_reply.started": "2024-04-17T10:39:31.010927Z",
     "to_execute": "2024-04-17T10:39:31.070Z"
    },
    "libroFormatter": "formatter-string"
   },
   "outputs": [],
   "source": [
    "from libro_flow import notebook_args\n",
    "from pydantic import BaseModel"
   ]
  },
  {
   "cell_type": "code",
   "execution_count": 2,
   "id": "126d33c8-c8fb-400c-9564-77834d775b99",
   "metadata": {
    "execution": {
     "shell.execute_reply.end": "2024-04-17T10:39:31.827977Z",
     "shell.execute_reply.started": "2024-04-17T10:39:31.793434Z",
     "to_execute": "2024-04-17T10:39:31.849Z"
    },
    "libroFormatter": "formatter-string"
   },
   "outputs": [
    {
     "data": {
      "application/vnd.jupyter.widget-view+json": {
       "model_id": "e19d1b1a0ecf4403bb9ed3489be2e03d",
       "version_major": 2,
       "version_minor": 0
      },
      "text/plain": [
       "SchemaFormWidget(schema='{\\n  \"properties\": {\\n    \"a\": {\\n      \"default\": 1,\\n      \"title\": \"A\",\\n      \"ty…"
      ]
     },
     "metadata": {},
     "output_type": "display_data"
    }
   ],
   "source": [
    "class Parameters(BaseModel):\n",
    "    a:int = 1\n",
    "    b:str = \"test1\"\n",
    "args = notebook_args(Parameters)"
   ]
  },
  {
   "cell_type": "code",
   "execution_count": 4,
   "id": "3299a3bb-0a00-4f40-a721-d48225e9e933",
   "metadata": {
    "execution": {
     "shell.execute_reply.end": "2024-04-17T10:39:42.165320Z",
     "shell.execute_reply.started": "2024-04-17T10:39:42.160893Z",
     "to_execute": "2024-04-17T10:39:42.232Z"
    },
    "libroFormatter": "formatter-string"
   },
   "outputs": [
    {
     "data": {
      "text/plain": [
       "Parameters(a=3, b='test1')"
      ]
     },
     "execution_count": 4,
     "metadata": {},
     "output_type": "execute_result"
    }
   ],
   "source": [
    "args"
   ]
  },
  {
   "cell_type": "code",
   "execution_count": null,
   "id": "e961bf24-15ed-47bb-8fa3-d4aa3123a6ba",
   "metadata": {
    "execution": {},
    "libroFormatter": "formatter-string"
   },
   "outputs": [],
   "source": [
    "result = args.a+1\n",
    "result"
   ]
  },
  {
   "cell_type": "code",
   "execution_count": null,
   "id": "0f88ad55-9636-405c-8bdc-22801ea03d2b",
   "metadata": {
    "execution": {},
    "libroFormatter": "formatter-string"
   },
   "outputs": [],
   "source": [
    "a"
   ]
  },
  {
   "cell_type": "code",
   "execution_count": null,
   "id": "1c7686d8-a63e-439a-8038-661bbe962128",
   "metadata": {
    "execution": {},
    "libroFormatter": "formatter-string"
   },
   "outputs": [],
   "source": [
    "from libro_flow import dump_execution_result\n",
    "dump_execution_result(result)"
   ]
  },
  {
   "cell_type": "code",
   "execution_count": null,
   "id": "3159c8d9-ebf5-4d34-a036-c7088247ac01",
   "metadata": {
    "execution": {},
    "libroFormatter": "formatter-string"
   },
   "outputs": [],
   "source": []
  }
 ],
 "metadata": {
  "args": {
   "properties": {
    "a": {
     "default": 1,
     "title": "A",
     "type": "integer"
    },
    "b": {
     "default": "test1",
     "title": "B",
     "type": "string"
    }
   },
   "title": "Parameters",
   "type": "object"
  }
 },
 "nbformat": 4,
 "nbformat_minor": 5
}
