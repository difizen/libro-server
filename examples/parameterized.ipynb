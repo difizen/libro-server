{
 "cells": [
  {
   "cell_type": "code",
   "execution_count": 18,
   "id": "1bff4672-0101-4fc1-ad2b-facf0cc7c4ae",
   "metadata": {
    "execution": {
     "shell.execute_reply.end": "2024-04-16T09:00:45.197255Z",
     "shell.execute_reply.started": "2024-04-16T09:00:45.191979Z",
     "to_execute": "2024-04-16T09:00:45.244Z"
    },
    "libroFormatter": "formatter-string"
   },
   "outputs": [],
   "source": [
    "from libro_flow import notebook_args\n",
    "from pydantic import BaseModel"
   ]
  },
  {
   "cell_type": "code",
   "execution_count": 19,
   "id": "126d33c8-c8fb-400c-9564-77834d775b99",
   "metadata": {
    "execution": {
     "shell.execute_reply.end": "2024-04-16T09:00:45.596324Z",
     "shell.execute_reply.started": "2024-04-16T09:00:45.587448Z",
     "to_execute": "2024-04-16T09:00:45.632Z"
    },
    "libroFormatter": "formatter-string"
   },
   "outputs": [],
   "source": [
    "class Parameters(BaseModel):\n",
    "    a:int = 1\n",
    "    b:str = \"test1\""
   ]
  },
  {
   "cell_type": "code",
   "execution_count": 20,
   "id": "4007a6ce-c742-4d24-99de-7eebed59edbf",
   "metadata": {
    "execution": {
     "shell.execute_reply.end": "2024-04-16T09:00:46.324059Z",
     "shell.execute_reply.started": "2024-04-16T09:00:46.316241Z",
     "to_execute": "2024-04-16T09:00:46.367Z"
    },
    "libroFormatter": "formatter-string"
   },
   "outputs": [
    {
     "data": {
      "application/vnd.libro.args+json": {
       "properties": {
        "a": {
         "default": 1,
         "title": "A",
         "type": "integer"
        },
        "b": {
         "default": "test1",
         "title": "B",
         "type": "string"
        }
       },
       "title": "Parameters",
       "type": "object"
      }
     },
     "metadata": {},
     "output_type": "display_data"
    },
    {
     "data": {
      "text/plain": [
       "Parameters(a=1, b='test1')"
      ]
     },
     "execution_count": 20,
     "metadata": {},
     "output_type": "execute_result"
    }
   ],
   "source": [
    "args = notebook_args(Parameters)\n",
    "args\n"
   ]
  },
  {
   "cell_type": "code",
   "execution_count": 21,
   "id": "e961bf24-15ed-47bb-8fa3-d4aa3123a6ba",
   "metadata": {
    "execution": {
     "shell.execute_reply.end": "2024-04-16T09:00:47.166083Z",
     "shell.execute_reply.started": "2024-04-16T09:00:47.161879Z",
     "to_execute": "2024-04-16T09:00:47.215Z"
    },
    "libroFormatter": "formatter-string"
   },
   "outputs": [
    {
     "data": {
      "text/plain": [
       "2"
      ]
     },
     "execution_count": 21,
     "metadata": {},
     "output_type": "execute_result"
    }
   ],
   "source": [
    "result = args.a+1\n",
    "result"
   ]
  },
  {
   "cell_type": "code",
   "execution_count": 25,
   "id": "0f88ad55-9636-405c-8bdc-22801ea03d2b",
   "metadata": {
    "execution": {
     "shell.execute_reply.end": "2024-04-16T09:32:11.106689Z",
     "shell.execute_reply.started": "2024-04-16T09:32:11.098909Z",
     "to_execute": "2024-04-16T09:32:11.170Z"
    },
    "libroFormatter": "formatter-string"
   },
   "outputs": [
    {
     "data": {
      "text/plain": [
       "1"
      ]
     },
     "execution_count": 25,
     "metadata": {},
     "output_type": "execute_result"
    }
   ],
   "source": [
    "a"
   ]
  },
  {
   "cell_type": "code",
   "execution_count": 14,
   "id": "1c7686d8-a63e-439a-8038-661bbe962128",
   "metadata": {
    "execution": {
     "shell.execute_reply.end": "2024-04-16T03:42:59.936392Z",
     "shell.execute_reply.started": "2024-04-16T03:42:59.932471Z",
     "to_execute": "2024-04-16T03:42:59.951Z"
    },
    "libroFormatter": "formatter-string"
   },
   "outputs": [
    {
     "data": {
      "text/plain": [
       "'/var/folders/sc/8f2x5t494sl3mmy56_9ljp_00000gp/T/tmpc7rttj2x/libro_execute_result_ac3e0a30891e4559.pickle'"
      ]
     },
     "execution_count": 14,
     "metadata": {},
     "output_type": "execute_result"
    }
   ],
   "source": [
    "from libro_flow import dump_execution_result\n",
    "dump_execution_result(result)"
   ]
  }
 ],
 "metadata": {
  "args": {
   "properties": {
    "a": {
     "default": 1,
     "title": "A",
     "type": "integer"
    },
    "b": {
     "default": "test1",
     "title": "B",
     "type": "string"
    }
   },
   "title": "Parameters",
   "type": "object"
  }
 },
 "nbformat": 4,
 "nbformat_minor": 5
}
