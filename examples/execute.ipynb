{
 "cells": [
  {
   "cell_type": "code",
   "execution_count": 1,
   "id": "1bff4672-0101-4fc1-ad2b-facf0cc7c4ae",
   "metadata": {
    "execution": {
     "shell.execute_reply.end": "2024-04-19T08:21:30.201943Z",
     "shell.execute_reply.started": "2024-04-19T08:21:28.322764Z",
     "to_execute": "2024-04-19T08:21:28.379Z"
    },
    "libroFormatter": "formatter-string"
   },
   "outputs": [
    {
     "data": {
      "text/plain": [
       "None"
      ]
     },
     "metadata": {},
     "output_type": "display_data"
    }
   ],
   "source": [
    "from libro_flow import execute_notebook\n",
    "execute_notebook(\"parameterized.ipynb\", args={ \"a\":3, \"b\":\"test\"}, execute_record_path='execution/parameterized.ipynb')"
   ]
  },
  {
   "cell_type": "code",
   "execution_count": null,
   "id": "d96e9c32-0496-42ee-8524-a4c0034ddb12",
   "metadata": {
    "execution": {},
    "libroFormatter": "formatter-string"
   },
   "outputs": [],
   "source": []
  },
  {
   "cell_type": "code",
   "execution_count": null,
   "id": "4c662fdd-69e9-4db7-a8c8-060464b51f88",
   "metadata": {
    "execution": {},
    "libroFormatter": "formatter-string"
   },
   "outputs": [],
   "source": []
  }
 ],
 "metadata": {
  "args": {
   "properties": {
    "a": {
     "default": 1,
     "title": "A",
     "type": "integer"
    },
    "b": {
     "default": "test1",
     "title": "B",
     "type": "string"
    }
   },
   "title": "Parameters",
   "type": "object"
  },
  "language_info": {
   "codemirror_mode": {
    "name": "ipython",
    "version": 3
   },
   "file_extension": ".py",
   "mimetype": "text/x-python",
   "name": "python",
   "nbconvert_exporter": "python",
   "pygments_lexer": "ipython3",
   "version": "3.9.13"
  }
 },
 "nbformat": 4,
 "nbformat_minor": 5
}
