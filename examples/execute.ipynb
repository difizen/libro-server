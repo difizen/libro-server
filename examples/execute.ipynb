{
 "cells": [
  {
   "cell_type": "code",
   "execution_count": 3,
   "id": "1bff4672-0101-4fc1-ad2b-facf0cc7c4ae",
   "metadata": {
    "execution": {
     "shell.execute_reply.end": "2024-04-16T09:32:16.079674Z",
     "shell.execute_reply.started": "2024-04-16T09:32:14.912272Z",
     "to_execute": "2024-04-16T09:32:14.975Z"
    },
    "libroFormatter": "formatter-string"
   },
   "outputs": [
    {
     "name": "stdout",
     "output_type": "stream",
     "text": [
      "args {\"a\": 2, \"b\": \"test\"}\n",
      "21634047-69023bf0a8b4809873435dc2_54253_10\n",
      "{'header': {'msg_id': '5266cffb-7de1c83ab81f2f4a34668d24_54387_46', 'msg_type': 'execute_reply', 'username': 'brokun', 'session': '5266cffb-7de1c83ab81f2f4a34668d24', 'date': datetime.datetime(2024, 4, 16, 9, 32, 15, 963417, tzinfo=tzutc()), 'version': '5.3'}, 'msg_id': '5266cffb-7de1c83ab81f2f4a34668d24_54387_46', 'msg_type': 'execute_reply', 'parent_header': {'msg_id': '21634047-69023bf0a8b4809873435dc2_54253_10', 'msg_type': 'execute_request', 'username': 'brokun', 'session': '21634047-69023bf0a8b4809873435dc2', 'date': datetime.datetime(2024, 4, 16, 9, 32, 15, 961221, tzinfo=tzutc()), 'version': '5.3'}, 'metadata': {'started': '2024-04-16T09:32:15.961744Z', 'dependencies_met': True, 'engine': '0b105a88-3026-4e91-9ea0-f5d1f24f8266', 'status': 'ok'}, 'content': {'status': 'ok', 'execution_count': 6, 'user_expressions': {}, 'payload': []}, 'buffers': []}\n"
     ]
    },
    {
     "data": {
      "text/plain": [
       "None"
      ]
     },
     "metadata": {},
     "output_type": "display_data"
    }
   ],
   "source": [
    "from libro_flow import execute_notebook\n",
    "execute_notebook(\"test.ipynb\", args={ \"a\":2, \"b\":\"test\"}, execute_record_path='record.ipynb')"
   ]
  },
  {
   "cell_type": "code",
   "execution_count": null,
   "id": "d96e9c32-0496-42ee-8524-a4c0034ddb12",
   "metadata": {
    "execution": {},
    "libroFormatter": "formatter-string"
   },
   "outputs": [],
   "source": []
  },
  {
   "cell_type": "code",
   "execution_count": null,
   "id": "4c662fdd-69e9-4db7-a8c8-060464b51f88",
   "metadata": {
    "execution": {},
    "libroFormatter": "formatter-string"
   },
   "outputs": [],
   "source": []
  }
 ],
 "metadata": {
  "args": {
   "properties": {
    "a": {
     "default": 1,
     "title": "A",
     "type": "integer"
    },
    "b": {
     "default": "test1",
     "title": "B",
     "type": "string"
    }
   },
   "title": "Parameters",
   "type": "object"
  },
  "language_info": {
   "codemirror_mode": {
    "name": "ipython",
    "version": 3
   },
   "file_extension": ".py",
   "mimetype": "text/x-python",
   "name": "python",
   "nbconvert_exporter": "python",
   "pygments_lexer": "ipython3",
   "version": "3.9.13"
  }
 },
 "nbformat": 4,
 "nbformat_minor": 5
}
