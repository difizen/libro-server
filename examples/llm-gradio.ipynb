{
 "cells": [
  {
   "cell_type": "code",
   "execution_count": null,
   "id": "67270cde-e674-48dd-aa2d-c83f123242ec",
   "metadata": {
    "libroFormatter": "formatter-string"
   },
   "outputs": [],
   "source": [
    "import random\n",
    "import gradio as gr\n",
    "from langchain.schema import AIMessage, HumanMessage\n",
    "from libro_ai import chat_record_provider, chat_object_manager\n",
    "gr.close_all()\n",
    "\n",
    "def predict(message, history):\n",
    "    history_langchain_format = chat_record_provider.get_record('chat1').get_messages()\n",
    "    for human, ai in history:\n",
    "        history_langchain_format.append(HumanMessage(content=human))\n",
    "        history_langchain_format.append(AIMessage(content=ai))\n",
    "    history_langchain_format.append(HumanMessage(content=message))\n",
    "    gpt_response = chat(history_langchain_format)\n",
    "    return gpt_response.content\n",
    "\n",
    "gr.ChatInterface(predict).launch(debug=True)"
   ]
  }
 ],
 "metadata": {},
 "nbformat": 4,
 "nbformat_minor": 5
}
